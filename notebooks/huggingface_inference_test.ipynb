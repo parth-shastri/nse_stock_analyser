{
 "cells": [
  {
   "cell_type": "code",
   "execution_count": 1,
   "metadata": {},
   "outputs": [
    {
     "name": "stderr",
     "output_type": "stream",
     "text": [
      "/Users/parthshastri/miniconda3/envs/analyser/lib/python3.11/site-packages/tqdm/auto.py:21: TqdmWarning: IProgress not found. Please update jupyter and ipywidgets. See https://ipywidgets.readthedocs.io/en/stable/user_install.html\n",
      "  from .autonotebook import tqdm as notebook_tqdm\n",
      "/Users/parthshastri/miniconda3/envs/analyser/lib/python3.11/site-packages/pydantic/_internal/_fields.py:132: UserWarning: Field \"model_name\" in HuggingFaceInferenceAPI has conflict with protected namespace \"model_\".\n",
      "\n",
      "You may be able to resolve this warning by setting `model_config['protected_namespaces'] = ()`.\n",
      "  warnings.warn(\n"
     ]
    },
    {
     "data": {
      "text/plain": [
       "True"
      ]
     },
     "execution_count": 1,
     "metadata": {},
     "output_type": "execute_result"
    }
   ],
   "source": [
    "# TRy the huggingface inference endpoint API\n",
    "from llama_index.llms.huggingface_api import HuggingFaceInferenceAPI\n",
    "from llama_index.core.prompts import ChatMessage\n",
    "from huggingface_hub import InferenceClient\n",
    "from dotenv import load_dotenv\n",
    "\n",
    "load_dotenv(\"../secrets/local.env\")\n"
   ]
  },
  {
   "cell_type": "code",
   "execution_count": 10,
   "metadata": {},
   "outputs": [
    {
     "name": "stdout",
     "output_type": "stream",
     "text": [
      "The weather in Satara, Maharashtra, India as of now (according to Weather.com):\n",
      "\n",
      "- Temperature: 28°C (82°F)\n",
      "- Weather: Partly cloudy\n",
      "- Humidity: 70%\n",
      "- Wind: Light, 7 km/h from the WNW\n",
      "- Forecast for the next few days:\n",
      "  - Tomorrow: Mostly sunny, 27°C (81°F)\n",
      "  - Day after tomorrow: Mostly cloudy,\n"
     ]
    }
   ],
   "source": [
    "client = InferenceClient(model=\"mistralai/Mistral-Nemo-Instruct-2407\", timeout=120.0)\n",
    "\n",
    "response = client.chat_completion(messages=[{\"role\": \"system\", \"content\": \"You are a helpful assistant\"}, {\"role\": \"user\", \"content\": \"how is the weathre in satara\"}])\n",
    "\n",
    "# similar to the openai api / groq api\n",
    "print(response.choices[0].message.content)"
   ]
  },
  {
   "cell_type": "code",
   "execution_count": null,
   "metadata": {},
   "outputs": [],
   "source": [
    "# Doesn't work, conversational mode is not supporte and is deprecated\n",
    "# Will need to use the chat_completion method \n",
    "response = client.conversational(\"What is the weather in satara\")\n",
    "response.choices[0].message.content"
   ]
  },
  {
   "cell_type": "code",
   "execution_count": null,
   "metadata": {},
   "outputs": [],
   "source": [
    "# with llama_index\n",
    "# Doesn't work.\n",
    "messages = [ChatMessage(role=\"user\", content=\"What is the weather in Satara\")]\n",
    "llm = HuggingFaceInferenceAPI(model_name=\"mistralai/Mistral-Nemo-Instruct-2407\", timeout=120.0, context_window=4096, num_output=1024, is_chat_model=True, is_function_calling_model=True)\n",
    "\n",
    "response = llm.chat(messages)\n",
    "\n",
    "response.content"
   ]
  },
  {
   "cell_type": "code",
   "execution_count": null,
   "metadata": {},
   "outputs": [],
   "source": []
  }
 ],
 "metadata": {
  "kernelspec": {
   "display_name": "analyser",
   "language": "python",
   "name": "python3"
  },
  "language_info": {
   "codemirror_mode": {
    "name": "ipython",
    "version": 3
   },
   "file_extension": ".py",
   "mimetype": "text/x-python",
   "name": "python",
   "nbconvert_exporter": "python",
   "pygments_lexer": "ipython3",
   "version": "3.11.9"
  }
 },
 "nbformat": 4,
 "nbformat_minor": 2
}
